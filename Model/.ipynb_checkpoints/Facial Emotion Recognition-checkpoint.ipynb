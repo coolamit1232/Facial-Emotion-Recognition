{
 "cells": [
  {
   "cell_type": "markdown",
   "metadata": {},
   "source": [
    "## Importing Modules"
   ]
  },
  {
   "cell_type": "code",
   "execution_count": 1,
   "metadata": {
    "id": "ZwBRpMGpoTWa"
   },
   "outputs": [],
   "source": [
    "import numpy as np\n",
    "\n",
    "from keras.models import Sequential\n",
    "from keras.layers import Dense, Dropout, Flatten\n",
    "from keras.layers import Conv2D\n",
    "from keras.optimizers import Adam\n",
    "from keras.layers import MaxPooling2D\n",
    "from keras.preprocessing.image import ImageDataGenerator"
   ]
  },
  {
   "cell_type": "markdown",
   "metadata": {},
   "source": [
    "### Loading Dataset"
   ]
  },
  {
   "cell_type": "code",
   "execution_count": 2,
   "metadata": {
    "colab": {
     "base_uri": "https://localhost:8080/"
    },
    "id": "Dcja_vG5vBr0",
    "outputId": "2d621927-8a24-4f5b-cc66-0bd3762daebd"
   },
   "outputs": [
    {
     "name": "stdout",
     "output_type": "stream",
     "text": [
      "Found 28709 images belonging to 7 classes.\n",
      "Found 7178 images belonging to 7 classes.\n"
     ]
    }
   ],
   "source": [
    "train_dir = '/content/train'\n",
    "test_dir = '../content/test'\n",
    "\n",
    "train_datagen = ImageDataGenerator(rescale=1./255)\n",
    "test_datagen = ImageDataGenerator(rescale=1./255)\n",
    "\n",
    "train_data = train_datagen.flow_from_directory(\n",
    "                train_dir,\n",
    "                target_size=(48,48),\n",
    "                batch_size=64,\n",
    "                color_mode=\"grayscale\",\n",
    "                class_mode='categorical')\n",
    "\n",
    "test_data = test_datagen.flow_from_directory(\n",
    "                test_dir,\n",
    "                target_size=(48,48),\n",
    "                batch_size=64,\n",
    "                color_mode=\"grayscale\",\n",
    "\n",
    "    class_mode='categorical')"
   ]
  },
  {
   "cell_type": "markdown",
   "metadata": {},
   "source": [
    "## Model Creation"
   ]
  },
  {
   "cell_type": "code",
   "execution_count": 3,
   "metadata": {
    "id": "52g7hAWuvCfd"
   },
   "outputs": [],
   "source": [
    "emotion_model = Sequential()\n",
    "emotion_model.add(Conv2D(32, kernel_size=(3, 3), activation='relu', input_shape=(48,48,1)))\n",
    "emotion_model.add(Conv2D(64, kernel_size=(3, 3), activation='relu'))\n",
    "emotion_model.add(MaxPooling2D(pool_size=(2, 2)))\n",
    "emotion_model.add(Dropout(0.25))\n",
    "emotion_model.add(Conv2D(128, kernel_size=(3, 3), activation='relu'))\n",
    "emotion_model.add(MaxPooling2D(pool_size=(2, 2)))\n",
    "emotion_model.add(Conv2D(128, kernel_size=(3, 3), activation='relu'))\n",
    "emotion_model.add(MaxPooling2D(pool_size=(2, 2)))\n",
    "emotion_model.add(Dropout(0.25))\n",
    "emotion_model.add(Flatten())\n",
    "emotion_model.add(Dense(1024, activation='relu'))\n",
    "emotion_model.add(Dropout(0.5))\n",
    "emotion_model.add(Dense(7, activation='softmax'))"
   ]
  },
  {
   "cell_type": "markdown",
   "metadata": {},
   "source": [
    "## Model Compile, Run and Testing"
   ]
  },
  {
   "cell_type": "code",
   "execution_count": 4,
   "metadata": {
    "colab": {
     "base_uri": "https://localhost:8080/"
    },
    "id": "NX33lLZuvLtr",
    "outputId": "86ff16b5-59a5-4e19-946d-af6b7756f7db"
   },
   "outputs": [
    {
     "name": "stderr",
     "output_type": "stream",
     "text": [
      "/usr/local/lib/python3.7/dist-packages/tensorflow/python/keras/engine/training.py:1844: UserWarning: `Model.fit_generator` is deprecated and will be removed in a future version. Please use `Model.fit`, which supports generators.\n",
      "  warnings.warn('`Model.fit_generator` is deprecated and '\n"
     ]
    },
    {
     "name": "stdout",
     "output_type": "stream",
     "text": [
      "Epoch 1/50\n",
      "448/448 [==============================] - 12s 21ms/step - loss: 1.8331 - accuracy: 0.2451 - val_loss: 1.7341 - val_accuracy: 0.3343\n",
      "Epoch 2/50\n",
      "448/448 [==============================] - 9s 21ms/step - loss: 1.6793 - accuracy: 0.3357 - val_loss: 1.5536 - val_accuracy: 0.4128\n",
      "Epoch 3/50\n",
      "448/448 [==============================] - 9s 21ms/step - loss: 1.5610 - accuracy: 0.3979 - val_loss: 1.4677 - val_accuracy: 0.4353\n",
      "Epoch 4/50\n",
      "448/448 [==============================] - 9s 21ms/step - loss: 1.4832 - accuracy: 0.4333 - val_loss: 1.4134 - val_accuracy: 0.4558\n",
      "Epoch 5/50\n",
      "448/448 [==============================] - 9s 21ms/step - loss: 1.4199 - accuracy: 0.4545 - val_loss: 1.3732 - val_accuracy: 0.4739\n",
      "Epoch 6/50\n",
      "448/448 [==============================] - 9s 21ms/step - loss: 1.3662 - accuracy: 0.4828 - val_loss: 1.3336 - val_accuracy: 0.4880\n",
      "Epoch 7/50\n",
      "448/448 [==============================] - 9s 20ms/step - loss: 1.3236 - accuracy: 0.4957 - val_loss: 1.2937 - val_accuracy: 0.5053\n",
      "Epoch 8/50\n",
      "448/448 [==============================] - 9s 21ms/step - loss: 1.2709 - accuracy: 0.5225 - val_loss: 1.2589 - val_accuracy: 0.5199\n",
      "Epoch 9/50\n",
      "448/448 [==============================] - 9s 21ms/step - loss: 1.2403 - accuracy: 0.5343 - val_loss: 1.2293 - val_accuracy: 0.5317\n",
      "Epoch 10/50\n",
      "448/448 [==============================] - 9s 21ms/step - loss: 1.2108 - accuracy: 0.5490 - val_loss: 1.2150 - val_accuracy: 0.5385\n",
      "Epoch 11/50\n",
      "448/448 [==============================] - 9s 21ms/step - loss: 1.1844 - accuracy: 0.5520 - val_loss: 1.1867 - val_accuracy: 0.5540\n",
      "Epoch 12/50\n",
      "448/448 [==============================] - 9s 21ms/step - loss: 1.1627 - accuracy: 0.5645 - val_loss: 1.1738 - val_accuracy: 0.5558\n",
      "Epoch 13/50\n",
      "448/448 [==============================] - 9s 21ms/step - loss: 1.1358 - accuracy: 0.5766 - val_loss: 1.1622 - val_accuracy: 0.5608\n",
      "Epoch 14/50\n",
      "448/448 [==============================] - 9s 21ms/step - loss: 1.1055 - accuracy: 0.5870 - val_loss: 1.1543 - val_accuracy: 0.5658\n",
      "Epoch 15/50\n",
      "448/448 [==============================] - 9s 20ms/step - loss: 1.0836 - accuracy: 0.5959 - val_loss: 1.1390 - val_accuracy: 0.5748\n",
      "Epoch 16/50\n",
      "448/448 [==============================] - 9s 21ms/step - loss: 1.0631 - accuracy: 0.6015 - val_loss: 1.1222 - val_accuracy: 0.5784\n",
      "Epoch 17/50\n",
      "448/448 [==============================] - 9s 21ms/step - loss: 1.0382 - accuracy: 0.6125 - val_loss: 1.1215 - val_accuracy: 0.5776\n",
      "Epoch 18/50\n",
      "448/448 [==============================] - 9s 21ms/step - loss: 1.0106 - accuracy: 0.6171 - val_loss: 1.1193 - val_accuracy: 0.5769\n",
      "Epoch 19/50\n",
      "448/448 [==============================] - 9s 21ms/step - loss: 0.9934 - accuracy: 0.6256 - val_loss: 1.1008 - val_accuracy: 0.5887\n",
      "Epoch 20/50\n",
      "448/448 [==============================] - 9s 21ms/step - loss: 0.9667 - accuracy: 0.6395 - val_loss: 1.0941 - val_accuracy: 0.5897\n",
      "Epoch 21/50\n",
      "448/448 [==============================] - 9s 21ms/step - loss: 0.9528 - accuracy: 0.6432 - val_loss: 1.0978 - val_accuracy: 0.5897\n",
      "Epoch 22/50\n",
      "448/448 [==============================] - 9s 21ms/step - loss: 0.9315 - accuracy: 0.6502 - val_loss: 1.0846 - val_accuracy: 0.5992\n",
      "Epoch 23/50\n",
      "448/448 [==============================] - 10s 21ms/step - loss: 0.9083 - accuracy: 0.6679 - val_loss: 1.0804 - val_accuracy: 0.5993\n",
      "Epoch 24/50\n",
      "448/448 [==============================] - 9s 21ms/step - loss: 0.8769 - accuracy: 0.6782 - val_loss: 1.0821 - val_accuracy: 0.6020\n",
      "Epoch 25/50\n",
      "448/448 [==============================] - 10s 21ms/step - loss: 0.8560 - accuracy: 0.6871 - val_loss: 1.0721 - val_accuracy: 0.6064\n",
      "Epoch 26/50\n",
      "448/448 [==============================] - 10s 22ms/step - loss: 0.8387 - accuracy: 0.6941 - val_loss: 1.0756 - val_accuracy: 0.6062\n",
      "Epoch 27/50\n",
      "448/448 [==============================] - 10s 22ms/step - loss: 0.8142 - accuracy: 0.7013 - val_loss: 1.0748 - val_accuracy: 0.6044\n",
      "Epoch 28/50\n",
      "448/448 [==============================] - 9s 21ms/step - loss: 0.7919 - accuracy: 0.7117 - val_loss: 1.0787 - val_accuracy: 0.6062\n",
      "Epoch 29/50\n",
      "448/448 [==============================] - 9s 21ms/step - loss: 0.7591 - accuracy: 0.7184 - val_loss: 1.0858 - val_accuracy: 0.6098\n",
      "Epoch 30/50\n",
      "448/448 [==============================] - 9s 21ms/step - loss: 0.7545 - accuracy: 0.7235 - val_loss: 1.0787 - val_accuracy: 0.6112\n",
      "Epoch 31/50\n",
      "448/448 [==============================] - 9s 21ms/step - loss: 0.7285 - accuracy: 0.7348 - val_loss: 1.0775 - val_accuracy: 0.6130\n",
      "Epoch 32/50\n",
      "448/448 [==============================] - 9s 21ms/step - loss: 0.7119 - accuracy: 0.7386 - val_loss: 1.0770 - val_accuracy: 0.6162\n",
      "Epoch 33/50\n",
      "448/448 [==============================] - 9s 21ms/step - loss: 0.6906 - accuracy: 0.7477 - val_loss: 1.0877 - val_accuracy: 0.6154\n",
      "Epoch 34/50\n",
      "448/448 [==============================] - 10s 21ms/step - loss: 0.6605 - accuracy: 0.7593 - val_loss: 1.0950 - val_accuracy: 0.6150\n",
      "Epoch 35/50\n",
      "448/448 [==============================] - 9s 21ms/step - loss: 0.6543 - accuracy: 0.7575 - val_loss: 1.0980 - val_accuracy: 0.6143\n",
      "Epoch 36/50\n",
      "448/448 [==============================] - 9s 21ms/step - loss: 0.6352 - accuracy: 0.7704 - val_loss: 1.0899 - val_accuracy: 0.6226\n",
      "Epoch 37/50\n",
      "448/448 [==============================] - 9s 21ms/step - loss: 0.6151 - accuracy: 0.7764 - val_loss: 1.1003 - val_accuracy: 0.6189\n",
      "Epoch 38/50\n",
      "448/448 [==============================] - 9s 21ms/step - loss: 0.5891 - accuracy: 0.7846 - val_loss: 1.1090 - val_accuracy: 0.6169\n",
      "Epoch 39/50\n",
      "448/448 [==============================] - 9s 21ms/step - loss: 0.5656 - accuracy: 0.7955 - val_loss: 1.1097 - val_accuracy: 0.6175\n",
      "Epoch 40/50\n",
      "448/448 [==============================] - 9s 21ms/step - loss: 0.5433 - accuracy: 0.8048 - val_loss: 1.1151 - val_accuracy: 0.6208\n",
      "Epoch 41/50\n",
      "448/448 [==============================] - 9s 21ms/step - loss: 0.5284 - accuracy: 0.8070 - val_loss: 1.1356 - val_accuracy: 0.6201\n",
      "Epoch 42/50\n",
      "448/448 [==============================] - 10s 21ms/step - loss: 0.5156 - accuracy: 0.8135 - val_loss: 1.1302 - val_accuracy: 0.6236\n",
      "Epoch 43/50\n",
      "448/448 [==============================] - 9s 21ms/step - loss: 0.4912 - accuracy: 0.8225 - val_loss: 1.1429 - val_accuracy: 0.6222\n",
      "Epoch 44/50\n",
      "448/448 [==============================] - 9s 21ms/step - loss: 0.4825 - accuracy: 0.8253 - val_loss: 1.1436 - val_accuracy: 0.6233\n",
      "Epoch 45/50\n",
      "448/448 [==============================] - 10s 22ms/step - loss: 0.4678 - accuracy: 0.8340 - val_loss: 1.1740 - val_accuracy: 0.6237\n",
      "Epoch 46/50\n",
      "448/448 [==============================] - 10s 21ms/step - loss: 0.4573 - accuracy: 0.8320 - val_loss: 1.1609 - val_accuracy: 0.6204\n",
      "Epoch 47/50\n",
      "448/448 [==============================] - 10s 21ms/step - loss: 0.4390 - accuracy: 0.8424 - val_loss: 1.1772 - val_accuracy: 0.6201\n",
      "Epoch 48/50\n",
      "448/448 [==============================] - 9s 21ms/step - loss: 0.4238 - accuracy: 0.8454 - val_loss: 1.1657 - val_accuracy: 0.6212\n",
      "Epoch 49/50\n",
      "448/448 [==============================] - 10s 21ms/step - loss: 0.4210 - accuracy: 0.8471 - val_loss: 1.1859 - val_accuracy: 0.6215\n",
      "Epoch 50/50\n",
      "448/448 [==============================] - 9s 21ms/step - loss: 0.4018 - accuracy: 0.8562 - val_loss: 1.2039 - val_accuracy: 0.6159\n"
     ]
    }
   ],
   "source": [
    "emotion_model.compile(loss='categorical_crossentropy',optimizer=Adam(lr=0.0001, decay=1e-6),metrics=['accuracy'])\n",
    "emotion_model_info = emotion_model.fit_generator(\n",
    "        train_data,\n",
    "        steps_per_epoch=28709 // 64,\n",
    "        epochs=50,\n",
    "        validation_data=test_data,\n",
    "        validation_steps=7178 // 64,\n",
    ")"
   ]
  },
  {
   "cell_type": "markdown",
   "metadata": {},
   "source": [
    "#### Model Accuracy: 0.6159"
   ]
  },
  {
   "cell_type": "markdown",
   "metadata": {},
   "source": [
    "### Saving Model (Weights, json file)"
   ]
  },
  {
   "cell_type": "code",
   "execution_count": 6,
   "metadata": {
    "colab": {
     "base_uri": "https://localhost:8080/"
    },
    "id": "JnZ24Zph0tLI",
    "outputId": "1ca32733-8ce4-40f1-b5b1-85e6f6124859"
   },
   "outputs": [
    {
     "name": "stdout",
     "output_type": "stream",
     "text": [
      "Saved model to disk\n"
     ]
    }
   ],
   "source": [
    "model_json = emotion_model.to_json()\n",
    "with open(\"model.json\", \"w\") as json_file:\n",
    "    json_file.write(model_json)\n",
    "    emotion_model.save_weights(\"model.h5\")\n",
    "    print(\"Saved model to disk\")"
   ]
  }
 ],
 "metadata": {
  "accelerator": "GPU",
  "colab": {
   "name": "Untitled0.ipynb",
   "provenance": []
  },
  "kernelspec": {
   "display_name": "Python 3",
   "language": "python",
   "name": "python3"
  },
  "language_info": {
   "codemirror_mode": {
    "name": "ipython",
    "version": 3
   },
   "file_extension": ".py",
   "mimetype": "text/x-python",
   "name": "python",
   "nbconvert_exporter": "python",
   "pygments_lexer": "ipython3",
   "version": "3.8.5"
  }
 },
 "nbformat": 4,
 "nbformat_minor": 1
}

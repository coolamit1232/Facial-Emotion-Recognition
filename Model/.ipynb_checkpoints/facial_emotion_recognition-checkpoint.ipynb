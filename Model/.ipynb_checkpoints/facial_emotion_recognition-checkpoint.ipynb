{
 "cells": [
  {
   "cell_type": "markdown",
   "metadata": {},
   "source": [
    "## Importing Libraries"
   ]
  },
  {
   "cell_type": "code",
   "execution_count": 2,
   "metadata": {
    "id": "-9zT_WJL8eKO"
   },
   "outputs": [],
   "source": [
    "import pandas as pd\n",
    "import numpy as np\n",
    "import matplotlib.pyplot as plt\n",
    "import cv2\n",
    "import emoji\n",
    "\n",
    "from sklearn.model_selection import train_test_split as tts\n",
    "from keras.models import Sequential\n",
    "from keras.layers.core import Flatten, Dense, Dropout\n",
    "from keras.layers.convolutional import Convolution2D, MaxPooling2D, ZeroPadding2D\n",
    "from keras.optimizers import SGD"
   ]
  },
  {
   "cell_type": "markdown",
   "metadata": {},
   "source": [
    "### Loading Dataset"
   ]
  },
  {
   "cell_type": "code",
   "execution_count": 4,
   "metadata": {
    "id": "FQnyPGxeeCMk"
   },
   "outputs": [],
   "source": [
    "emotion_data= pd.read_csv('../Dataset/fer2013.csv')"
   ]
  },
  {
   "cell_type": "code",
   "execution_count": 5,
   "metadata": {
    "colab": {
     "base_uri": "https://localhost:8080/",
     "height": 204
    },
    "id": "zFTL8WeDeCMl",
    "outputId": "4cb96eb5-52a1-47b7-e1a7-cf4ec01431cc"
   },
   "outputs": [
    {
     "data": {
      "text/html": [
       "<div>\n",
       "<style scoped>\n",
       "    .dataframe tbody tr th:only-of-type {\n",
       "        vertical-align: middle;\n",
       "    }\n",
       "\n",
       "    .dataframe tbody tr th {\n",
       "        vertical-align: top;\n",
       "    }\n",
       "\n",
       "    .dataframe thead th {\n",
       "        text-align: right;\n",
       "    }\n",
       "</style>\n",
       "<table border=\"1\" class=\"dataframe\">\n",
       "  <thead>\n",
       "    <tr style=\"text-align: right;\">\n",
       "      <th></th>\n",
       "      <th>emotion</th>\n",
       "      <th>pixels</th>\n",
       "      <th>Usage</th>\n",
       "    </tr>\n",
       "  </thead>\n",
       "  <tbody>\n",
       "    <tr>\n",
       "      <th>0</th>\n",
       "      <td>0</td>\n",
       "      <td>70 80 82 72 58 58 60 63 54 58 60 48 89 115 121...</td>\n",
       "      <td>Training</td>\n",
       "    </tr>\n",
       "    <tr>\n",
       "      <th>1</th>\n",
       "      <td>0</td>\n",
       "      <td>151 150 147 155 148 133 111 140 170 174 182 15...</td>\n",
       "      <td>Training</td>\n",
       "    </tr>\n",
       "    <tr>\n",
       "      <th>2</th>\n",
       "      <td>2</td>\n",
       "      <td>231 212 156 164 174 138 161 173 182 200 106 38...</td>\n",
       "      <td>Training</td>\n",
       "    </tr>\n",
       "    <tr>\n",
       "      <th>3</th>\n",
       "      <td>4</td>\n",
       "      <td>24 32 36 30 32 23 19 20 30 41 21 22 32 34 21 1...</td>\n",
       "      <td>Training</td>\n",
       "    </tr>\n",
       "    <tr>\n",
       "      <th>4</th>\n",
       "      <td>6</td>\n",
       "      <td>4 0 0 0 0 0 0 0 0 0 0 0 3 15 23 28 48 50 58 84...</td>\n",
       "      <td>Training</td>\n",
       "    </tr>\n",
       "  </tbody>\n",
       "</table>\n",
       "</div>"
      ],
      "text/plain": [
       "   emotion                                             pixels     Usage\n",
       "0        0  70 80 82 72 58 58 60 63 54 58 60 48 89 115 121...  Training\n",
       "1        0  151 150 147 155 148 133 111 140 170 174 182 15...  Training\n",
       "2        2  231 212 156 164 174 138 161 173 182 200 106 38...  Training\n",
       "3        4  24 32 36 30 32 23 19 20 30 41 21 22 32 34 21 1...  Training\n",
       "4        6  4 0 0 0 0 0 0 0 0 0 0 0 3 15 23 28 48 50 58 84...  Training"
      ]
     },
     "execution_count": 5,
     "metadata": {
      "tags": []
     },
     "output_type": "execute_result"
    }
   ],
   "source": [
    "emotion_data.head()"
   ]
  },
  {
   "cell_type": "markdown",
   "metadata": {},
   "source": [
    "## Preprocessing Data"
   ]
  },
  {
   "cell_type": "code",
   "execution_count": 6,
   "metadata": {
    "id": "LGPHwcFeeCMn"
   },
   "outputs": [],
   "source": [
    "X = []\n",
    "Y = []\n",
    "for index, row in emotion_data.iterrows():\n",
    "    k = row['pixels'].split(\" \")\n",
    "    X.append(np.array(k))\n",
    "    Y.append(row['emotion'])"
   ]
  },
  {
   "cell_type": "markdown",
   "metadata": {},
   "source": [
    "## Spliting Data into Train and Test Data"
   ]
  },
  {
   "cell_type": "code",
   "execution_count": null,
   "metadata": {
    "id": "bhv85y1ueCMn"
   },
   "outputs": [],
   "source": [
    "train_X, test_X, train_Y, test_Y = tts(X, Y, test_size = 0.2, random_state = 123)"
   ]
  },
  {
   "cell_type": "code",
   "execution_count": 8,
   "metadata": {
    "id": "r6HVnUwjeCMo"
   },
   "outputs": [],
   "source": [
    "train_X, valid_X, train_Y, valid_Y = tts(train_X, train_Y, test_size = 0.2, random_state = 42)"
   ]
  },
  {
   "cell_type": "markdown",
   "metadata": {},
   "source": [
    "### One-hot encoding of output"
   ]
  },
  {
   "cell_type": "code",
   "execution_count": 9,
   "metadata": {
    "id": "N-9CRTaeeCMo"
   },
   "outputs": [],
   "source": [
    "def one_hot_encode(data, num_classes = 10):\n",
    "    \n",
    "    return np.eye(num_classes)[data]"
   ]
  },
  {
   "cell_type": "markdown",
   "metadata": {},
   "source": [
    "## PreProcessing 2"
   ]
  },
  {
   "cell_type": "code",
   "execution_count": 10,
   "metadata": {
    "id": "R2flX7mLeCMp"
   },
   "outputs": [],
   "source": [
    "train_X = np.array(train_X).astype(int)\n",
    "train_Y = np.array(train_Y)\n",
    "test_X = np.array(test_X).astype(int)\n",
    "test_Y = np.array(test_Y)\n",
    "valid_X = np.array(valid_X).astype(int)\n",
    "valid_Y = np.array(valid_Y)\n",
    "\n",
    "train_X = train_X.reshape(train_X.shape[0], 48, 48, 1)\n",
    "test_X = test_X.reshape(test_X.shape[0], 48, 48, 1)\n",
    "valid_X = valid_X.reshape(valid_X.shape[0], 48, 48, 1)\n",
    "\n",
    "train_Y = one_hot_encode(train_Y, num_classes=7)\n",
    "test_Y = one_hot_encode(test_Y, num_classes=7)\n",
    "valid_Y = one_hot_encode(valid_Y, num_classes=7)"
   ]
  },
  {
   "cell_type": "code",
   "execution_count": 11,
   "metadata": {
    "colab": {
     "base_uri": "https://localhost:8080/"
    },
    "id": "j4xBXj4K8eKQ",
    "outputId": "12505144-ee8b-4818-8402-79e5f6c0d498"
   },
   "outputs": [
    {
     "data": {
      "text/plain": [
       "((22967, 48, 48, 1),\n",
       " (22967, 7),\n",
       " (5742, 48, 48, 1),\n",
       " (5742, 7),\n",
       " (7178, 48, 48, 1),\n",
       " (7178, 7))"
      ]
     },
     "execution_count": 11,
     "metadata": {
      "tags": []
     },
     "output_type": "execute_result"
    }
   ],
   "source": [
    "train_X.shape, train_Y.shape, valid_X.shape, valid_Y.shape, test_X.shape, test_Y.shape, "
   ]
  },
  {
   "cell_type": "markdown",
   "metadata": {
    "id": "5mSj5_l78eKV"
   },
   "source": [
    "# Model Creation"
   ]
  },
  {
   "cell_type": "code",
   "execution_count": 12,
   "metadata": {
    "id": "oj9L5fLc8eKW"
   },
   "outputs": [],
   "source": [
    "model = Sequential()\n",
    "model.add(ZeroPadding2D((1,1),input_shape=(48,48,1)))\n",
    "model.add(Convolution2D(64, 3, 1, activation='relu'))\n",
    "model.add(ZeroPadding2D((1,1)))\n",
    "model.add(Convolution2D(64, 3, 1, activation='relu'))\n",
    "model.add(MaxPooling2D((2, 2), strides=(2, 2)))\n",
    "\n",
    "model.add(ZeroPadding2D((1,1)))\n",
    "model.add(Convolution2D(128, 3, 1, activation='relu'))\n",
    "model.add(ZeroPadding2D((1,1)))\n",
    "model.add(Convolution2D(128, 3, 1, activation='relu'))\n",
    "model.add(MaxPooling2D((2,2), strides=(2,2)))\n",
    "\n",
    "model.add(ZeroPadding2D((1,1)))\n",
    "model.add(Convolution2D(256, 3, 1, activation='relu'))\n",
    "model.add(ZeroPadding2D((1,1)))\n",
    "model.add(Convolution2D(256, 3, 1, activation='relu'))\n",
    "model.add(ZeroPadding2D((1,1)))\n",
    "model.add(Convolution2D(256, 3, 1, activation='relu'))\n",
    "model.add(MaxPooling2D((2,2), strides=(2,2)))\n",
    "\n",
    "model.add(ZeroPadding2D((1,1)))\n",
    "model.add(Convolution2D(512, 3, 1, activation='relu'))\n",
    "model.add(ZeroPadding2D((1,1)))\n",
    "model.add(Convolution2D(512, 3, 1, activation='relu'))\n",
    "model.add(ZeroPadding2D((1,1)))\n",
    "model.add(Convolution2D(512, 3, 1, activation='relu'))\n",
    "model.add(MaxPooling2D((2,2), strides=(2,2)))\n",
    "\n",
    "\n",
    "model.add(ZeroPadding2D((1,1)))\n",
    "model.add(Convolution2D(512, 3, 1, activation='relu'))\n",
    "model.add(ZeroPadding2D((1,1)))\n",
    "model.add(Convolution2D(512, 3, 1, activation='relu'))\n",
    "model.add(ZeroPadding2D((1,1)))\n",
    "model.add(Convolution2D(512, 3, 1, activation='relu'))\n",
    "model.add(MaxPooling2D((2,2), strides=(2,2)))\n",
    "\n",
    "model.add(Flatten())\n",
    "model.add(Dense(128, activation='relu'))\n",
    "model.add(Dropout(0.5))\n",
    "model.add(Dense(7, activation='softmax'))"
   ]
  },
  {
   "cell_type": "markdown",
   "metadata": {
    "id": "QIJp0MSF8eKW"
   },
   "source": [
    "### Summary of Model"
   ]
  },
  {
   "cell_type": "code",
   "execution_count": 13,
   "metadata": {
    "colab": {
     "base_uri": "https://localhost:8080/"
    },
    "id": "P3Vi4kCU8eKW",
    "outputId": "7d2eb578-6010-4100-b84c-33f864566471"
   },
   "outputs": [
    {
     "name": "stdout",
     "output_type": "stream",
     "text": [
      "Model: \"sequential\"\n",
      "_________________________________________________________________\n",
      "Layer (type)                 Output Shape              Param #   \n",
      "=================================================================\n",
      "zero_padding2d (ZeroPadding2 (None, 50, 50, 1)         0         \n",
      "_________________________________________________________________\n",
      "conv2d (Conv2D)              (None, 48, 48, 64)        640       \n",
      "_________________________________________________________________\n",
      "zero_padding2d_1 (ZeroPaddin (None, 50, 50, 64)        0         \n",
      "_________________________________________________________________\n",
      "conv2d_1 (Conv2D)            (None, 48, 48, 64)        36928     \n",
      "_________________________________________________________________\n",
      "max_pooling2d (MaxPooling2D) (None, 24, 24, 64)        0         \n",
      "_________________________________________________________________\n",
      "zero_padding2d_2 (ZeroPaddin (None, 26, 26, 64)        0         \n",
      "_________________________________________________________________\n",
      "conv2d_2 (Conv2D)            (None, 24, 24, 128)       73856     \n",
      "_________________________________________________________________\n",
      "zero_padding2d_3 (ZeroPaddin (None, 26, 26, 128)       0         \n",
      "_________________________________________________________________\n",
      "conv2d_3 (Conv2D)            (None, 24, 24, 128)       147584    \n",
      "_________________________________________________________________\n",
      "max_pooling2d_1 (MaxPooling2 (None, 12, 12, 128)       0         \n",
      "_________________________________________________________________\n",
      "zero_padding2d_4 (ZeroPaddin (None, 14, 14, 128)       0         \n",
      "_________________________________________________________________\n",
      "conv2d_4 (Conv2D)            (None, 12, 12, 256)       295168    \n",
      "_________________________________________________________________\n",
      "zero_padding2d_5 (ZeroPaddin (None, 14, 14, 256)       0         \n",
      "_________________________________________________________________\n",
      "conv2d_5 (Conv2D)            (None, 12, 12, 256)       590080    \n",
      "_________________________________________________________________\n",
      "zero_padding2d_6 (ZeroPaddin (None, 14, 14, 256)       0         \n",
      "_________________________________________________________________\n",
      "conv2d_6 (Conv2D)            (None, 12, 12, 256)       590080    \n",
      "_________________________________________________________________\n",
      "max_pooling2d_2 (MaxPooling2 (None, 6, 6, 256)         0         \n",
      "_________________________________________________________________\n",
      "zero_padding2d_7 (ZeroPaddin (None, 8, 8, 256)         0         \n",
      "_________________________________________________________________\n",
      "conv2d_7 (Conv2D)            (None, 6, 6, 512)         1180160   \n",
      "_________________________________________________________________\n",
      "zero_padding2d_8 (ZeroPaddin (None, 8, 8, 512)         0         \n",
      "_________________________________________________________________\n",
      "conv2d_8 (Conv2D)            (None, 6, 6, 512)         2359808   \n",
      "_________________________________________________________________\n",
      "zero_padding2d_9 (ZeroPaddin (None, 8, 8, 512)         0         \n",
      "_________________________________________________________________\n",
      "conv2d_9 (Conv2D)            (None, 6, 6, 512)         2359808   \n",
      "_________________________________________________________________\n",
      "max_pooling2d_3 (MaxPooling2 (None, 3, 3, 512)         0         \n",
      "_________________________________________________________________\n",
      "zero_padding2d_10 (ZeroPaddi (None, 5, 5, 512)         0         \n",
      "_________________________________________________________________\n",
      "conv2d_10 (Conv2D)           (None, 3, 3, 512)         2359808   \n",
      "_________________________________________________________________\n",
      "zero_padding2d_11 (ZeroPaddi (None, 5, 5, 512)         0         \n",
      "_________________________________________________________________\n",
      "conv2d_11 (Conv2D)           (None, 3, 3, 512)         2359808   \n",
      "_________________________________________________________________\n",
      "zero_padding2d_12 (ZeroPaddi (None, 5, 5, 512)         0         \n",
      "_________________________________________________________________\n",
      "conv2d_12 (Conv2D)           (None, 3, 3, 512)         2359808   \n",
      "_________________________________________________________________\n",
      "max_pooling2d_4 (MaxPooling2 (None, 1, 1, 512)         0         \n",
      "_________________________________________________________________\n",
      "flatten (Flatten)            (None, 512)               0         \n",
      "_________________________________________________________________\n",
      "dense (Dense)                (None, 128)               65664     \n",
      "_________________________________________________________________\n",
      "dropout (Dropout)            (None, 128)               0         \n",
      "_________________________________________________________________\n",
      "dense_1 (Dense)              (None, 7)                 903       \n",
      "=================================================================\n",
      "Total params: 14,780,103\n",
      "Trainable params: 14,780,103\n",
      "Non-trainable params: 0\n",
      "_________________________________________________________________\n"
     ]
    }
   ],
   "source": [
    "model.summary()"
   ]
  },
  {
   "cell_type": "markdown",
   "metadata": {
    "id": "60HASyO28eKX"
   },
   "source": [
    "### Compile Model"
   ]
  },
  {
   "cell_type": "code",
   "execution_count": 14,
   "metadata": {
    "id": "LprqioKZ8eKX"
   },
   "outputs": [],
   "source": [
    "model.compile(optimizer='sgd',loss='categorical_crossentropy',metrics=['accuracy'])"
   ]
  },
  {
   "cell_type": "markdown",
   "metadata": {
    "id": "F0F84ECM8eKY"
   },
   "source": [
    "### Training model"
   ]
  },
  {
   "cell_type": "code",
   "execution_count": 15,
   "metadata": {
    "colab": {
     "base_uri": "https://localhost:8080/"
    },
    "id": "1SAjEYIh8eKY",
    "outputId": "ff8b6e42-3c87-4b2a-df43-d24248844a50"
   },
   "outputs": [
    {
     "name": "stdout",
     "output_type": "stream",
     "text": [
      "Epoch 1/15\n",
      "1436/1436 [==============================] - 36s 20ms/step - loss: 1.8488 - accuracy: 0.2300 - val_loss: 1.8056 - val_accuracy: 0.2457\n",
      "Epoch 2/15\n",
      "1436/1436 [==============================] - 29s 20ms/step - loss: 1.7535 - accuracy: 0.2878 - val_loss: 1.5879 - val_accuracy: 0.3567\n",
      "Epoch 3/15\n",
      "1436/1436 [==============================] - 28s 20ms/step - loss: 1.5457 - accuracy: 0.3926 - val_loss: 1.4419 - val_accuracy: 0.4342\n",
      "Epoch 4/15\n",
      "1436/1436 [==============================] - 28s 20ms/step - loss: 1.4241 - accuracy: 0.4459 - val_loss: 1.3443 - val_accuracy: 0.4781\n",
      "Epoch 5/15\n",
      "1436/1436 [==============================] - 28s 20ms/step - loss: 1.3129 - accuracy: 0.4965 - val_loss: 1.2798 - val_accuracy: 0.5035\n",
      "Epoch 6/15\n",
      "1436/1436 [==============================] - 28s 20ms/step - loss: 1.2236 - accuracy: 0.5317 - val_loss: 1.2371 - val_accuracy: 0.5315\n",
      "Epoch 7/15\n",
      "1436/1436 [==============================] - 28s 20ms/step - loss: 1.1420 - accuracy: 0.5633 - val_loss: 1.2764 - val_accuracy: 0.5098\n",
      "Epoch 8/15\n",
      "1436/1436 [==============================] - 28s 20ms/step - loss: 1.0646 - accuracy: 0.5991 - val_loss: 1.1852 - val_accuracy: 0.5496\n",
      "Epoch 9/15\n",
      "1436/1436 [==============================] - 28s 20ms/step - loss: 0.9978 - accuracy: 0.6275 - val_loss: 1.1981 - val_accuracy: 0.5594\n",
      "Epoch 10/15\n",
      "1436/1436 [==============================] - 28s 20ms/step - loss: 0.9060 - accuracy: 0.6643 - val_loss: 1.2516 - val_accuracy: 0.5418\n",
      "Epoch 11/15\n",
      "1436/1436 [==============================] - 28s 20ms/step - loss: 0.8442 - accuracy: 0.6887 - val_loss: 1.2352 - val_accuracy: 0.5653\n",
      "Epoch 12/15\n",
      "1436/1436 [==============================] - 28s 20ms/step - loss: 0.7605 - accuracy: 0.7251 - val_loss: 1.3908 - val_accuracy: 0.5312\n",
      "Epoch 13/15\n",
      "1436/1436 [==============================] - 28s 20ms/step - loss: 0.6796 - accuracy: 0.7560 - val_loss: 1.3750 - val_accuracy: 0.5218\n",
      "Epoch 14/15\n",
      "1436/1436 [==============================] - 28s 20ms/step - loss: 0.5986 - accuracy: 0.7872 - val_loss: 1.6830 - val_accuracy: 0.5019\n",
      "Epoch 15/15\n",
      "1436/1436 [==============================] - 28s 20ms/step - loss: 0.5427 - accuracy: 0.8090 - val_loss: 1.4863 - val_accuracy: 0.5589\n"
     ]
    },
    {
     "data": {
      "text/plain": [
       "<tensorflow.python.keras.callbacks.History at 0x7f4963373750>"
      ]
     },
     "execution_count": 15,
     "metadata": {
      "tags": []
     },
     "output_type": "execute_result"
    }
   ],
   "source": [
    "model.fit(train_X, train_Y, validation_data = (valid_X, valid_Y), epochs = 15, batch_size = 16)"
   ]
  },
  {
   "cell_type": "markdown",
   "metadata": {
    "id": "gifPXL0h8eKZ"
   },
   "source": [
    "### Output Converter(onehot-digits), Accuracy Score"
   ]
  },
  {
   "cell_type": "code",
   "execution_count": 16,
   "metadata": {
    "id": "8MBPwGdA8eKZ"
   },
   "outputs": [],
   "source": [
    "def num_convert(data):\n",
    "    data = np.array([data[i].argmax() for i in range(len(data))])\n",
    "    return data\n",
    "\n",
    "def accuracy_score(Y_pred, Y_test):\n",
    "    return np.mean(Y_pred == Y_test)"
   ]
  },
  {
   "cell_type": "markdown",
   "metadata": {
    "id": "bxvAlcNd8eKa"
   },
   "source": [
    "### Predicting Output on Test Data"
   ]
  },
  {
   "cell_type": "code",
   "execution_count": 17,
   "metadata": {
    "id": "90AhAEBYeCMv"
   },
   "outputs": [],
   "source": [
    "Y_pred = model.predict(test_X)"
   ]
  },
  {
   "cell_type": "code",
   "execution_count": 18,
   "metadata": {
    "colab": {
     "base_uri": "https://localhost:8080/"
    },
    "id": "ueKGOFXP8eKa",
    "outputId": "0a8775fc-51a9-4595-9018-a75fdb48d5fc"
   },
   "outputs": [
    {
     "data": {
      "text/plain": [
       "0.5670103092783505"
      ]
     },
     "execution_count": 18,
     "metadata": {
      "tags": []
     },
     "output_type": "execute_result"
    }
   ],
   "source": [
    "Y_pred = num_convert(Y_pred)\n",
    "test_Y = num_convert(test_Y)\n",
    "accuracy_score(Y_pred, test_Y)"
   ]
  },
  {
   "cell_type": "markdown",
   "metadata": {
    "id": "EP8Dfjej8eKb"
   },
   "source": [
    "## Predicting on Single Output"
   ]
  },
  {
   "cell_type": "code",
   "execution_count": 19,
   "metadata": {
    "id": "SZzWxmvteCMw"
   },
   "outputs": [],
   "source": [
    "index = 6"
   ]
  },
  {
   "cell_type": "code",
   "execution_count": 20,
   "metadata": {
    "colab": {
     "base_uri": "https://localhost:8080/",
     "height": 318
    },
    "id": "LwUKkaYJ8eKb",
    "outputId": "75c3b872-a257-4adf-9742-625449635673"
   },
   "outputs": [
    {
     "name": "stdout",
     "output_type": "stream",
     "text": [
      "Model Prediction : Angry😠\n",
      "Actual Value:  Angry😠\n",
      "Image:  [0]\n"
     ]
    },
    {
     "data": {
      "image/png": "[encoded data removed]",
      "text/plain": [
       "<Figure size 432x288 with 2 Axes>"
      ]
     },
     "metadata": {
      "needs_background": "light",
      "tags": []
     },
     "output_type": "display_data"
    }
   ],
   "source": [
    "plt.imshow(test_X[index].reshape(48, 48))\n",
    "plt.colorbar()\n",
    "\n",
    "emotion_dict = ['Angry' + str(emoji.emojize(':angry_face:')),\n",
    "                str( emoji.emojize('Disguist :shushing_face:')), str(emoji.emojize('fear, :fearful_face:')), \n",
    "                emoji.emojize('Happy ,:smiling_face_with_smiling_eyes:'), emoji.emojize('Sad :pensive_face:'), \n",
    "                emoji.emojize('Suprise :astonished_face:'), emoji.emojize('Neutral :neutral_face:')]\n",
    "\n",
    "print('Model Prediction :', emotion_dict[Y_pred[index]] )\n",
    "print('Actual Value: ', emotion_dict[test_Y[index]])\n",
    "print('Image: ', num_convert(model.predict(test_X[index].reshape(1, 48, 48, 1))) )"
   ]
  },
  {
   "cell_type": "code",
   "execution_count": 21,
   "metadata": {
    "colab": {
     "base_uri": "https://localhost:8080/"
    },
    "id": "AGFCI1kseCMx",
    "outputId": "d372cbd1-3fcb-4d07-d0c3-2fe86c8e6ccc"
   },
   "outputs": [
    {
     "name": "stdout",
     "output_type": "stream",
     "text": [
      "Saved model to disk\n"
     ]
    }
   ],
   "source": [
    "model_json = model.to_json()\n",
    "with open(\"model.json\", \"w\") as json_file:\n",
    "    json_file.write(model_json)\n",
    "    model.save_weights(\"model.h5\")\n",
    "    print(\"Saved model to disk\")"
   ]
  }
 ],
 "metadata": {
  "accelerator": "GPU",
  "colab": {
   "name": "facial_emotion_recognition.ipynb",
   "provenance": []
  },
  "kernelspec": {
   "display_name": "Python 3",
   "language": "python",
   "name": "python3"
  },
  "language_info": {
   "codemirror_mode": {
    "name": "ipython",
    "version": 3
   },
   "file_extension": ".py",
   "mimetype": "text/x-python",
   "name": "python",
   "nbconvert_exporter": "python",
   "pygments_lexer": "ipython3",
   "version": "3.8.5"
  }
 },
 "nbformat": 4,
 "nbformat_minor": 1
}
